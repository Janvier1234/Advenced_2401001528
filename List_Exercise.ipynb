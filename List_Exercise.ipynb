{
  "nbformat": 4,
  "nbformat_minor": 0,
  "metadata": {
    "colab": {
      "provenance": [],
      "authorship_tag": "ABX9TyPNXrsEIYfTeJEZMSnWx1rP",
      "include_colab_link": true
    },
    "kernelspec": {
      "name": "python3",
      "display_name": "Python 3"
    },
    "language_info": {
      "name": "python"
    }
  },
  "cells": [
    {
      "cell_type": "markdown",
      "metadata": {
        "id": "view-in-github",
        "colab_type": "text"
      },
      "source": [
        "<a href=\"https://colab.research.google.com/github/Janvier1234/Advenced_2401001528/blob/main/List_Exercise.ipynb\" target=\"_parent\"><img src=\"https://colab.research.google.com/assets/colab-badge.svg\" alt=\"Open In Colab\"/></a>"
      ]
    },
    {
      "cell_type": "code",
      "execution_count": null,
      "metadata": {
        "id": "C5Is1gf7ieS1"
      },
      "outputs": [],
      "source": []
    },
    {
      "cell_type": "code",
      "source": [
        "names = [\"Kagetera\",\"John\",\"Peter\",\"Alex\",\"Claude\"]\n",
        "names.append('karangwa')\n",
        "names.append(\"uok\")\n",
        "names.append(\"janvier\")\n",
        "names.sort()\n",
        "print(names)\n"
      ],
      "metadata": {
        "colab": {
          "base_uri": "https://localhost:8080/"
        },
        "id": "uQTEYFfcii69",
        "outputId": "3e794402-04bf-43e6-bad8-436a30e65185"
      },
      "execution_count": null,
      "outputs": [
        {
          "output_type": "stream",
          "name": "stdout",
          "text": [
            "['Alex', 'Claude', 'John', 'Kagetera', 'Peter', 'janvier', 'karangwa', 'uok']\n"
          ]
        }
      ]
    }
  ]
}