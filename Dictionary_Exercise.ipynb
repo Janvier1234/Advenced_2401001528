{
  "nbformat": 4,
  "nbformat_minor": 0,
  "metadata": {
    "colab": {
      "provenance": [],
      "authorship_tag": "ABX9TyOH8AR0r8eoh6XWuBKesfKb",
      "include_colab_link": true
    },
    "kernelspec": {
      "name": "python3",
      "display_name": "Python 3"
    },
    "language_info": {
      "name": "python"
    }
  },
  "cells": [
    {
      "cell_type": "markdown",
      "metadata": {
        "id": "view-in-github",
        "colab_type": "text"
      },
      "source": [
        "<a href=\"https://colab.research.google.com/github/Janvier1234/Advenced_2401001528/blob/main/Dictionary_Exercise.ipynb\" target=\"_parent\"><img src=\"https://colab.research.google.com/assets/colab-badge.svg\" alt=\"Open In Colab\"/></a>"
      ]
    },
    {
      "cell_type": "code",
      "execution_count": null,
      "metadata": {
        "id": "C5Is1gf7ieS1"
      },
      "outputs": [],
      "source": []
    },
    {
      "cell_type": "code",
      "source": [
        "name = {\"Apple\": 1000, \"Banana\": 500, \"Mango\": 1200}\n",
        "tot_cost=0\n",
        "for dictionary,cost in name.items():\n",
        "    print(dictionary,cost)\n",
        "    tot_cost += cost * 2\n",
        "#tot_cost = tot_cost + (cost * 2)\n",
        "print(f\"Total cost for 2kg of each fruit: {tot_cost} FRW\")"
      ],
      "metadata": {
        "colab": {
          "base_uri": "https://localhost:8080/"
        },
        "id": "uQTEYFfcii69",
        "outputId": "0fd31e10-f515-400e-9495-6768cf8bcd4e"
      },
      "execution_count": 21,
      "outputs": [
        {
          "output_type": "stream",
          "name": "stdout",
          "text": [
            "Apple 1000\n",
            "Banana 500\n",
            "Mango 1200\n",
            "Total cost for 2kg of each fruit: 5400 FRW\n"
          ]
        }
      ]
    }
  ]
}